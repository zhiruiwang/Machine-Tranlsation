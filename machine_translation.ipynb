{
 "cells": [
  {
   "cell_type": "markdown",
   "metadata": {
    "collapsed": true
   },
   "source": [
    "# Artificial Intelligence Nanodegree\n",
    "## Machine Translation Project\n",
    "In this notebook, sections that end with **'(IMPLEMENTATION)'** in the header indicate that the following blocks of code will require additional functionality which you must provide. Please be sure to read the instructions carefully!\n",
    "\n",
    "## Introduction\n",
    "In this notebook, you will build a deep neural network that functions as part of an end-to-end machine translation pipeline. Your completed pipeline will accept English text as input and return the French translation.\n",
    "\n",
    "- **Preprocess** - You'll convert text to sequence of integers.\n",
    "- **Models** Create models which accepts a sequence of integers as input and returns a probability distribution over possible translations. After learning about the basic types of neural networks that are often used for machine translation, you will engage in your own investigations, to design your own model!\n",
    "- **Prediction** Run the model on English text."
   ]
  },
  {
   "cell_type": "code",
   "execution_count": 1,
   "metadata": {
    "ExecuteTime": {
     "end_time": "2018-02-10T13:12:33.846153Z",
     "start_time": "2018-02-10T13:12:33.733548Z"
    }
   },
   "outputs": [],
   "source": [
    "%load_ext autoreload\n",
    "%aimport helper, tests\n",
    "%autoreload 1"
   ]
  },
  {
   "cell_type": "code",
   "execution_count": 2,
   "metadata": {
    "ExecuteTime": {
     "end_time": "2018-02-10T13:12:36.967347Z",
     "start_time": "2018-02-10T13:12:33.966009Z"
    }
   },
   "outputs": [
    {
     "name": "stderr",
     "output_type": "stream",
     "text": [
      "C:\\Anaconda3\\lib\\site-packages\\h5py\\__init__.py:36: FutureWarning: Conversion of the second argument of issubdtype from `float` to `np.floating` is deprecated. In future, it will be treated as `np.float64 == np.dtype(float).type`.\n",
      "  from ._conv import register_converters as _register_converters\n",
      "Using TensorFlow backend.\n"
     ]
    }
   ],
   "source": [
    "import collections\n",
    "\n",
    "import helper\n",
    "import numpy as np\n",
    "import project_tests as tests\n",
    "\n",
    "from keras.preprocessing.text import Tokenizer\n",
    "from keras.preprocessing.sequence import pad_sequences\n",
    "from keras.models import Model\n",
    "from keras.layers import CuDNNGRU, Input, Dense, TimeDistributed, Activation, RepeatVector, Bidirectional\n",
    "from keras.layers.embeddings import Embedding\n",
    "from keras.optimizers import Adam\n",
    "from keras.losses import sparse_categorical_crossentropy"
   ]
  },
  {
   "cell_type": "markdown",
   "metadata": {},
   "source": [
    "### Verify access to the GPU\n",
    "The following test applies only if you expect to be using a GPU, e.g., while running in a Udacity Workspace or using an AWS instance with GPU support. Run the next cell, and verify that the device_type is \"GPU\".\n",
    "- If the device is not GPU & you are running from a Udacity Workspace, then save your workspace with the icon at the top, then click \"enable\" at the bottom of the workspace.\n",
    "- If the device is not GPU & you are running from an AWS instance, then refer to the cloud computing instructions in the classroom to verify your setup steps."
   ]
  },
  {
   "cell_type": "code",
   "execution_count": 3,
   "metadata": {
    "ExecuteTime": {
     "end_time": "2018-02-10T13:12:38.097556Z",
     "start_time": "2018-02-10T13:12:36.976494Z"
    }
   },
   "outputs": [
    {
     "name": "stdout",
     "output_type": "stream",
     "text": [
      "[name: \"/device:CPU:0\"\n",
      "device_type: \"CPU\"\n",
      "memory_limit: 268435456\n",
      "locality {\n",
      "}\n",
      "incarnation: 9714300908879545444\n",
      ", name: \"/device:GPU:0\"\n",
      "device_type: \"GPU\"\n",
      "memory_limit: 2293517516\n",
      "locality {\n",
      "  bus_id: 1\n",
      "}\n",
      "incarnation: 10668483779211581441\n",
      "physical_device_desc: \"device: 0, name: GeForce GTX 970M, pci bus id: 0000:01:00.0, compute capability: 5.2\"\n",
      "]\n"
     ]
    }
   ],
   "source": [
    "from tensorflow.python.client import device_lib\n",
    "print(device_lib.list_local_devices())"
   ]
  },
  {
   "cell_type": "markdown",
   "metadata": {},
   "source": [
    "## Dataset\n",
    "We begin by investigating the dataset that will be used to train and evaluate your pipeline.  The most common datasets used for machine translation are from [WMT](http://www.statmt.org/).  However, that will take a long time to train a neural network on.  We'll be using a dataset we created for this project that contains a small vocabulary.  You'll be able to train your model in a reasonable time with this dataset.\n",
    "### Load Data\n",
    "The data is located in `data/small_vocab_en` and `data/small_vocab_fr`. The `small_vocab_en` file contains English sentences with their French translations in the `small_vocab_fr` file. Load the English and French data from these files from running the cell below."
   ]
  },
  {
   "cell_type": "code",
   "execution_count": 4,
   "metadata": {
    "ExecuteTime": {
     "end_time": "2018-02-10T13:12:38.264035Z",
     "start_time": "2018-02-10T13:12:38.102568Z"
    }
   },
   "outputs": [
    {
     "name": "stdout",
     "output_type": "stream",
     "text": [
      "Dataset Loaded\n"
     ]
    }
   ],
   "source": [
    "# Load English data\n",
    "english_sentences = helper.load_data('data/small_vocab_en')\n",
    "# Load French data\n",
    "french_sentences = helper.load_data('data/small_vocab_fr')\n",
    "\n",
    "print('Dataset Loaded')"
   ]
  },
  {
   "cell_type": "markdown",
   "metadata": {},
   "source": [
    "### Files\n",
    "Each line in `small_vocab_en` contains an English sentence with the respective translation in each line of `small_vocab_fr`.  View the first two lines from each file."
   ]
  },
  {
   "cell_type": "code",
   "execution_count": 5,
   "metadata": {
    "ExecuteTime": {
     "end_time": "2018-02-10T13:12:38.432446Z",
     "start_time": "2018-02-10T13:12:38.420413Z"
    }
   },
   "outputs": [
    {
     "name": "stdout",
     "output_type": "stream",
     "text": [
      "small_vocab_en Line 1:  new jersey is sometimes quiet during autumn , and it is snowy in april .\n",
      "small_vocab_fr Line 1:  new jersey est parfois calme pendant l' automne , et il est neigeux en avril .\n",
      "small_vocab_en Line 2:  the united states is usually chilly during july , and it is usually freezing in november .\n",
      "small_vocab_fr Line 2:  les 茅tats-unis est g茅n茅ralement froid en juillet , et il g猫le habituellement en novembre .\n"
     ]
    }
   ],
   "source": [
    "for sample_i in range(2):\n",
    "    print('small_vocab_en Line {}:  {}'.format(sample_i + 1, english_sentences[sample_i]))\n",
    "    print('small_vocab_fr Line {}:  {}'.format(sample_i + 1, french_sentences[sample_i]))"
   ]
  },
  {
   "cell_type": "markdown",
   "metadata": {},
   "source": [
    "From looking at the sentences, you can see they have been preprocessed already.  The puncuations have been delimited using spaces. All the text have been converted to lowercase.  This should save you some time, but the text requires more preprocessing.\n",
    "### Vocabulary\n",
    "The complexity of the problem is determined by the complexity of the vocabulary.  A more complex vocabulary is a more complex problem.  Let's look at the complexity of the dataset we'll be working with."
   ]
  },
  {
   "cell_type": "code",
   "execution_count": 6,
   "metadata": {
    "ExecuteTime": {
     "end_time": "2018-02-10T13:12:40.230226Z",
     "start_time": "2018-02-10T13:12:38.882395Z"
    }
   },
   "outputs": [
    {
     "name": "stdout",
     "output_type": "stream",
     "text": [
      "1823250 English words.\n",
      "227 unique English words.\n",
      "10 Most common words in the English dataset:\n",
      "\"is\" \",\" \".\" \"in\" \"it\" \"during\" \"the\" \"but\" \"and\" \"sometimes\"\n",
      "\n",
      "1961295 French words.\n",
      "355 unique French words.\n",
      "10 Most common words in the French dataset:\n",
      "\"est\" \".\" \",\" \"en\" \"il\" \"les\" \"mais\" \"et\" \"la\" \"parfois\"\n"
     ]
    }
   ],
   "source": [
    "english_words_counter = collections.Counter([word for sentence in english_sentences for word in sentence.split()])\n",
    "french_words_counter = collections.Counter([word for sentence in french_sentences for word in sentence.split()])\n",
    "\n",
    "print('{} English words.'.format(len([word for sentence in english_sentences for word in sentence.split()])))\n",
    "print('{} unique English words.'.format(len(english_words_counter)))\n",
    "print('10 Most common words in the English dataset:')\n",
    "print('\"' + '\" \"'.join(list(zip(*english_words_counter.most_common(10)))[0]) + '\"')\n",
    "print()\n",
    "print('{} French words.'.format(len([word for sentence in french_sentences for word in sentence.split()])))\n",
    "print('{} unique French words.'.format(len(french_words_counter)))\n",
    "print('10 Most common words in the French dataset:')\n",
    "print('\"' + '\" \"'.join(list(zip(*french_words_counter.most_common(10)))[0]) + '\"')"
   ]
  },
  {
   "cell_type": "markdown",
   "metadata": {},
   "source": [
    "For comparison, _Alice's Adventures in Wonderland_ contains 2,766 unique words of a total of 15,500 words.\n",
    "## Preprocess\n",
    "For this project, you won't use text data as input to your model. Instead, you'll convert the text into sequences of integers using the following preprocess methods:\n",
    "1. Tokenize the words into ids\n",
    "2. Add padding to make all the sequences the same length.\n",
    "\n",
    "Time to start preprocessing the data...\n",
    "### Tokenize (IMPLEMENTATION)\n",
    "For a neural network to predict on text data, it first has to be turned into data it can understand. Text data like \"dog\" is a sequence of ASCII character encodings.  Since a neural network is a series of multiplication and addition operations, the input data needs to be number(s).\n",
    "\n",
    "We can turn each character into a number or each word into a number.  These are called character and word ids, respectively.  Character ids are used for character level models that generate text predictions for each character.  A word level model uses word ids that generate text predictions for each word.  Word level models tend to learn better, since they are lower in complexity, so we'll use those.\n",
    "\n",
    "Turn each sentence into a sequence of words ids using Keras's [`Tokenizer`](https://keras.io/preprocessing/text/#tokenizer) function. Use this function to tokenize `english_sentences` and `french_sentences` in the cell below.\n",
    "\n",
    "Running the cell will run `tokenize` on sample data and show output for debugging."
   ]
  },
  {
   "cell_type": "code",
   "execution_count": 7,
   "metadata": {
    "ExecuteTime": {
     "end_time": "2018-02-10T13:12:40.421735Z",
     "start_time": "2018-02-10T13:12:40.405693Z"
    }
   },
   "outputs": [
    {
     "name": "stdout",
     "output_type": "stream",
     "text": [
      "{'the': 1, 'quick': 2, 'a': 3, 'brown': 4, 'fox': 5, 'jumps': 6, 'over': 7, 'lazy': 8, 'dog': 9, 'by': 10, 'jove': 11, 'my': 12, 'study': 13, 'of': 14, 'lexicography': 15, 'won': 16, 'prize': 17, 'this': 18, 'is': 19, 'short': 20, 'sentence': 21}\n",
      "\n",
      "Sequence 1 in x\n",
      "  Input:  The quick brown fox jumps over the lazy dog .\n",
      "  Output: [1, 2, 4, 5, 6, 7, 1, 8, 9]\n",
      "Sequence 2 in x\n",
      "  Input:  By Jove , my quick study of lexicography won a prize .\n",
      "  Output: [10, 11, 12, 2, 13, 14, 15, 16, 3, 17]\n",
      "Sequence 3 in x\n",
      "  Input:  This is a short sentence .\n",
      "  Output: [18, 19, 3, 20, 21]\n"
     ]
    }
   ],
   "source": [
    "def tokenize(x):\n",
    "    \"\"\"\n",
    "    Tokenize x\n",
    "    :param x: List of sentences/strings to be tokenized\n",
    "    :return: Tuple of (tokenized x data, tokenizer used to tokenize x)\n",
    "    \"\"\"\n",
    "    # TODO: Implement\n",
    "    tokenizer = Tokenizer()\n",
    "    tokenizer.fit_on_texts(x)\n",
    "    return tokenizer.texts_to_sequences(x), tokenizer\n",
    "tests.test_tokenize(tokenize)\n",
    "\n",
    "# Tokenize Example output\n",
    "text_sentences = [\n",
    "    'The quick brown fox jumps over the lazy dog .',\n",
    "    'By Jove , my quick study of lexicography won a prize .',\n",
    "    'This is a short sentence .']\n",
    "text_tokenized, text_tokenizer = tokenize(text_sentences)\n",
    "print(text_tokenizer.word_index)\n",
    "print()\n",
    "for sample_i, (sent, token_sent) in enumerate(zip(text_sentences, text_tokenized)):\n",
    "    print('Sequence {} in x'.format(sample_i + 1))\n",
    "    print('  Input:  {}'.format(sent))\n",
    "    print('  Output: {}'.format(token_sent))"
   ]
  },
  {
   "cell_type": "markdown",
   "metadata": {},
   "source": [
    "### Padding (IMPLEMENTATION)\n",
    "When batching the sequence of word ids together, each sequence needs to be the same length.  Since sentences are dynamic in length, we can add padding to the end of the sequences to make them the same length.\n",
    "\n",
    "Make sure all the English sequences have the same length and all the French sequences have the same length by adding padding to the **end** of each sequence using Keras's [`pad_sequences`](https://keras.io/preprocessing/sequence/#pad_sequences) function."
   ]
  },
  {
   "cell_type": "code",
   "execution_count": 8,
   "metadata": {
    "ExecuteTime": {
     "end_time": "2018-02-10T13:12:42.133905Z",
     "start_time": "2018-02-10T13:12:42.120886Z"
    }
   },
   "outputs": [
    {
     "name": "stdout",
     "output_type": "stream",
     "text": [
      "Sequence 1 in x\n",
      "  Input:  [1 2 4 5 6 7 1 8 9]\n",
      "  Output: [1 2 4 5 6 7 1 8 9 0]\n",
      "Sequence 2 in x\n",
      "  Input:  [10 11 12  2 13 14 15 16  3 17]\n",
      "  Output: [10 11 12  2 13 14 15 16  3 17]\n",
      "Sequence 3 in x\n",
      "  Input:  [18 19  3 20 21]\n",
      "  Output: [18 19  3 20 21  0  0  0  0  0]\n"
     ]
    }
   ],
   "source": [
    "def pad(x, length=None):\n",
    "    \"\"\"\n",
    "    Pad x\n",
    "    :param x: List of sequences.\n",
    "    :param length: Length to pad the sequence to.  If None, use length of longest sequence in x.\n",
    "    :return: Padded numpy array of sequences\n",
    "    \"\"\"\n",
    "    # TODO: Implement\n",
    "    return pad_sequences(x, maxlen=length, padding='post')\n",
    "tests.test_pad(pad)\n",
    "\n",
    "# Pad Tokenized output\n",
    "test_pad = pad(text_tokenized)\n",
    "for sample_i, (token_sent, pad_sent) in enumerate(zip(text_tokenized, test_pad)):\n",
    "    print('Sequence {} in x'.format(sample_i + 1))\n",
    "    print('  Input:  {}'.format(np.array(token_sent)))\n",
    "    print('  Output: {}'.format(pad_sent))"
   ]
  },
  {
   "cell_type": "markdown",
   "metadata": {},
   "source": [
    "### Preprocess Pipeline\n",
    "Your focus for this project is to build neural network architecture, so we won't ask you to create a preprocess pipeline.  Instead, we've provided you with the implementation of the `preprocess` function."
   ]
  },
  {
   "cell_type": "code",
   "execution_count": 9,
   "metadata": {
    "ExecuteTime": {
     "end_time": "2018-02-10T13:12:52.501484Z",
     "start_time": "2018-02-10T13:12:43.822027Z"
    }
   },
   "outputs": [
    {
     "name": "stdout",
     "output_type": "stream",
     "text": [
      "Data Preprocessed\n",
      "Max English sentence length: 15\n",
      "Max French sentence length: 21\n",
      "English vocabulary size: 199\n",
      "French vocabulary size: 345\n"
     ]
    }
   ],
   "source": [
    "def preprocess(x, y):\n",
    "    \"\"\"\n",
    "    Preprocess x and y\n",
    "    :param x: Feature List of sentences\n",
    "    :param y: Label List of sentences\n",
    "    :return: Tuple of (Preprocessed x, Preprocessed y, x tokenizer, y tokenizer)\n",
    "    \"\"\"\n",
    "    preprocess_x, x_tk = tokenize(x)\n",
    "    preprocess_y, y_tk = tokenize(y)\n",
    "\n",
    "    preprocess_x = pad(preprocess_x)\n",
    "    preprocess_y = pad(preprocess_y)\n",
    "\n",
    "    # Keras's sparse_categorical_crossentropy function requires the labels to be in 3 dimensions\n",
    "    preprocess_y = preprocess_y.reshape(*preprocess_y.shape, 1)\n",
    "\n",
    "    return preprocess_x, preprocess_y, x_tk, y_tk\n",
    "\n",
    "preproc_english_sentences, preproc_french_sentences, english_tokenizer, french_tokenizer =\\\n",
    "    preprocess(english_sentences, french_sentences)\n",
    "    \n",
    "max_english_sequence_length = preproc_english_sentences.shape[1]\n",
    "max_french_sequence_length = preproc_french_sentences.shape[1]\n",
    "english_vocab_size = len(english_tokenizer.word_index)\n",
    "french_vocab_size = len(french_tokenizer.word_index)\n",
    "\n",
    "print('Data Preprocessed')\n",
    "print(\"Max English sentence length:\", max_english_sequence_length)\n",
    "print(\"Max French sentence length:\", max_french_sequence_length)\n",
    "print(\"English vocabulary size:\", english_vocab_size)\n",
    "print(\"French vocabulary size:\", french_vocab_size)"
   ]
  },
  {
   "cell_type": "markdown",
   "metadata": {},
   "source": [
    "## Models\n",
    "In this section, you will experiment with various neural network architectures.\n",
    "You will begin by training four relatively simple architectures.\n",
    "- Model 1 is a simple RNN\n",
    "- Model 2 is a RNN with Embedding\n",
    "- Model 3 is a Bidirectional RNN\n",
    "- Model 4 is an optional Encoder-Decoder RNN\n",
    "\n",
    "After experimenting with the four simple architectures, you will construct a deeper architecture that is designed to outperform all four models.\n",
    "### Ids Back to Text\n",
    "The neural network will be translating the input to words ids, which isn't the final form we want.  We want the French translation.  The function `logits_to_text` will bridge the gab between the logits from the neural network to the French translation.  You'll be using this function to better understand the output of the neural network."
   ]
  },
  {
   "cell_type": "code",
   "execution_count": 10,
   "metadata": {
    "ExecuteTime": {
     "end_time": "2018-02-10T13:12:52.680966Z",
     "start_time": "2018-02-10T13:12:52.669919Z"
    }
   },
   "outputs": [
    {
     "name": "stdout",
     "output_type": "stream",
     "text": [
      "`logits_to_text` function loaded.\n"
     ]
    }
   ],
   "source": [
    "def logits_to_text(logits, tokenizer):\n",
    "    \"\"\"\n",
    "    Turn logits from a neural network into text using the tokenizer\n",
    "    :param logits: Logits from a neural network\n",
    "    :param tokenizer: Keras Tokenizer fit on the labels\n",
    "    :return: String that represents the text of the logits\n",
    "    \"\"\"\n",
    "    index_to_words = {id: word for word, id in tokenizer.word_index.items()}\n",
    "    index_to_words[0] = '<PAD>'\n",
    "\n",
    "    return ' '.join([index_to_words[prediction] for prediction in np.argmax(logits, 1)])\n",
    "\n",
    "print('`logits_to_text` function loaded.')"
   ]
  },
  {
   "cell_type": "markdown",
   "metadata": {},
   "source": [
    "### Model 1: RNN (IMPLEMENTATION)\n",
    "![RNN](images/rnn.png)\n",
    "A basic RNN model is a good baseline for sequence data.  In this model, you'll build a RNN that translates English to French."
   ]
  },
  {
   "cell_type": "code",
   "execution_count": 11,
   "metadata": {
    "ExecuteTime": {
     "end_time": "2018-02-10T11:04:43.532156Z",
     "start_time": "2018-02-10T10:57:01.106427Z"
    }
   },
   "outputs": [
    {
     "name": "stdout",
     "output_type": "stream",
     "text": [
      "Train on 110288 samples, validate on 27573 samples\n",
      "Epoch 1/10\n",
      "110288/110288 [==============================] - 49s 442us/step - loss: 2.9929 - acc: 0.4444 - val_loss: nan - val_acc: 0.4929\n",
      "Epoch 2/10\n",
      "110288/110288 [==============================] - 46s 416us/step - loss: 2.0844 - acc: 0.5283 - val_loss: nan - val_acc: 0.5660\n",
      "Epoch 3/10\n",
      "110288/110288 [==============================] - 45s 404us/step - loss: 1.6937 - acc: 0.5817 - val_loss: nan - val_acc: 0.5938\n",
      "Epoch 4/10\n",
      "110288/110288 [==============================] - 48s 431us/step - loss: 1.5337 - acc: 0.5965 - val_loss: nan - val_acc: 0.6067\n",
      "Epoch 5/10\n",
      "110288/110288 [==============================] - 47s 423us/step - loss: 1.4343 - acc: 0.6108 - val_loss: nan - val_acc: 0.6242\n",
      "Epoch 6/10\n",
      "110288/110288 [==============================] - 47s 422us/step - loss: 1.3543 - acc: 0.6278 - val_loss: nan - val_acc: 0.6343\n",
      "Epoch 7/10\n",
      "110288/110288 [==============================] - 46s 420us/step - loss: 1.2873 - acc: 0.6405 - val_loss: nan - val_acc: 0.6456\n",
      "Epoch 8/10\n",
      "110288/110288 [==============================] - 47s 423us/step - loss: 1.2310 - acc: 0.6510 - val_loss: nan - val_acc: 0.6553\n",
      "Epoch 9/10\n",
      "110288/110288 [==============================] - 42s 382us/step - loss: 1.1885 - acc: 0.6575 - val_loss: nan - val_acc: 0.6580\n",
      "Epoch 10/10\n",
      "110288/110288 [==============================] - 43s 392us/step - loss: 1.1577 - acc: 0.6611 - val_loss: nan - val_acc: 0.6622\n",
      "new jersey est parfois chaud en l' de il est est est en <PAD> <PAD> <PAD> <PAD> <PAD> <PAD> <PAD> <PAD>\n"
     ]
    }
   ],
   "source": [
    "def simple_model(input_shape, output_sequence_length, english_vocab_size, french_vocab_size):\n",
    "    \"\"\"\n",
    "    Build and train a basic RNN on x and y\n",
    "    :param input_shape: Tuple of input shape\n",
    "    :param output_sequence_length: Length of output sequence\n",
    "    :param english_vocab_size: Number of unique English words in the dataset\n",
    "    :param french_vocab_size: Number of unique French words in the dataset\n",
    "    :return: Keras model built, but not trained\n",
    "    \"\"\"\n",
    "    # TODO: Build the layers\n",
    "    inputs = Input(input_shape[1:])\n",
    "    x = CuDNNGRU(128, return_sequences=True)(inputs)\n",
    "    predictions = TimeDistributed(Dense(french_vocab_size, activation='softmax'))(x)\n",
    "    model = Model(inputs=inputs, outputs=predictions)\n",
    "    model.compile(loss=sparse_categorical_crossentropy,\n",
    "                  optimizer=Adam(),\n",
    "                  metrics=['accuracy'])\n",
    "    return model\n",
    "tests.test_simple_model(simple_model)\n",
    "\n",
    "# Reshaping the input to work with a basic RNN\n",
    "tmp_x = pad(preproc_english_sentences, max_french_sequence_length)\n",
    "tmp_x = tmp_x.reshape((-1, preproc_french_sentences.shape[-2], 1))\n",
    "\n",
    "# Train the neural network\n",
    "simple_rnn_model = simple_model(\n",
    "    tmp_x.shape,\n",
    "    max_french_sequence_length,\n",
    "    english_vocab_size,\n",
    "    french_vocab_size)\n",
    "simple_rnn_model.fit(tmp_x, preproc_french_sentences, batch_size=1024, epochs=10, validation_split=0.2)\n",
    "\n",
    "# Print prediction(s)\n",
    "print(logits_to_text(simple_rnn_model.predict(tmp_x[:1])[0], french_tokenizer))"
   ]
  },
  {
   "cell_type": "markdown",
   "metadata": {},
   "source": [
    "### Model 2: Embedding (IMPLEMENTATION)\n",
    "![RNN](images/embedding.png)\n",
    "You've turned the words into ids, but there's a better representation of a word.  This is called word embeddings.  An embedding is a vector representation of the word that is close to similar words in n-dimensional space, where the n represents the size of the embedding vectors.\n",
    "\n",
    "In this model, you'll create a RNN model using embedding."
   ]
  },
  {
   "cell_type": "code",
   "execution_count": 14,
   "metadata": {
    "ExecuteTime": {
     "end_time": "2018-02-10T11:14:51.549315Z",
     "start_time": "2018-02-10T11:07:08.642831Z"
    }
   },
   "outputs": [
    {
     "name": "stdout",
     "output_type": "stream",
     "text": [
      "Train on 110288 samples, validate on 27573 samples\n",
      "Epoch 1/10\n",
      "110288/110288 [==============================] - 45s 411us/step - loss: 3.3724 - acc: 0.4086 - val_loss: nan - val_acc: 0.4671\n",
      "Epoch 2/10\n",
      "110288/110288 [==============================] - 44s 395us/step - loss: 2.0861 - acc: 0.5437 - val_loss: nan - val_acc: 0.6197\n",
      "Epoch 3/10\n",
      "110288/110288 [==============================] - 45s 410us/step - loss: 1.3213 - acc: 0.6791 - val_loss: nan - val_acc: 0.7380\n",
      "Epoch 4/10\n",
      "110288/110288 [==============================] - 46s 418us/step - loss: 0.9480 - acc: 0.7620 - val_loss: nan - val_acc: 0.7854\n",
      "Epoch 5/10\n",
      "110288/110288 [==============================] - 46s 418us/step - loss: 0.7362 - acc: 0.8008 - val_loss: nan - val_acc: 0.8170\n",
      "Epoch 6/10\n",
      "110288/110288 [==============================] - 46s 418us/step - loss: 0.6114 - acc: 0.8270 - val_loss: nan - val_acc: 0.8358\n",
      "Epoch 7/10\n",
      "110288/110288 [==============================] - 47s 423us/step - loss: 0.5347 - acc: 0.8438 - val_loss: nan - val_acc: 0.8520\n",
      "Epoch 8/10\n",
      "110288/110288 [==============================] - 47s 426us/step - loss: 0.4761 - acc: 0.8591 - val_loss: nan - val_acc: 0.8660\n",
      "Epoch 9/10\n",
      "110288/110288 [==============================] - 47s 427us/step - loss: 0.4305 - acc: 0.8721 - val_loss: nan - val_acc: 0.8772\n",
      "Epoch 10/10\n",
      "110288/110288 [==============================] - 47s 430us/step - loss: 0.3945 - acc: 0.8815 - val_loss: nan - val_acc: 0.8855\n",
      "new jersey est parfois calme en l' et il il est neigeux en avril <PAD> <PAD> <PAD> <PAD> <PAD> <PAD> <PAD>\n"
     ]
    }
   ],
   "source": [
    "def embed_model(input_shape, output_sequence_length, english_vocab_size, french_vocab_size):\n",
    "    \"\"\"\n",
    "    Build and train a RNN model using word embedding on x and y\n",
    "    :param input_shape: Tuple of input shape\n",
    "    :param output_sequence_length: Length of output sequence\n",
    "    :param english_vocab_size: Number of unique English words in the dataset\n",
    "    :param french_vocab_size: Number of unique French words in the dataset\n",
    "    :return: Keras model built, but not trained\n",
    "    \"\"\"\n",
    "    # TODO: Implement\n",
    "    inputs = Input(input_shape[1:])\n",
    "    x = Embedding(english_vocab_size, 128, input_length=input_shape[1])(inputs)\n",
    "    x = CuDNNGRU(128, return_sequences=True)(x)\n",
    "    predictions = TimeDistributed(Dense(french_vocab_size, activation='softmax'))(x)\n",
    "    model = Model(inputs=inputs, outputs=predictions)\n",
    "    model.compile(loss=sparse_categorical_crossentropy,\n",
    "                  optimizer=Adam(),\n",
    "                  metrics=['accuracy'])\n",
    "    return model\n",
    "tests.test_embed_model(embed_model)\n",
    "\n",
    "\n",
    "# TODO: Reshape the input\n",
    "tmp_x = pad(preproc_english_sentences, max_french_sequence_length)\n",
    "\n",
    "# TODO: Train the neural network\n",
    "embed_rnn_model = embed_model(\n",
    "    tmp_x.shape,\n",
    "    max_french_sequence_length,\n",
    "    english_vocab_size,\n",
    "    french_vocab_size)\n",
    "embed_rnn_model.fit(tmp_x, preproc_french_sentences, batch_size=1024, epochs=10, validation_split=0.2)\n",
    "\n",
    "# TODO: Print prediction(s)\n",
    "print(logits_to_text(embed_rnn_model.predict(tmp_x[:1])[0], french_tokenizer))"
   ]
  },
  {
   "cell_type": "markdown",
   "metadata": {},
   "source": [
    "### Model 3: Bidirectional RNNs (IMPLEMENTATION)\n",
    "![RNN](images/bidirectional.png)\n",
    "One restriction of a RNN is that it can't see the future input, only the past.  This is where bidirectional recurrent neural networks come in.  They are able to see the future data."
   ]
  },
  {
   "cell_type": "code",
   "execution_count": 19,
   "metadata": {
    "ExecuteTime": {
     "end_time": "2018-02-10T11:43:04.821780Z",
     "start_time": "2018-02-10T11:38:16.319945Z"
    }
   },
   "outputs": [
    {
     "name": "stdout",
     "output_type": "stream",
     "text": [
      "Train on 110288 samples, validate on 27573 samples\n",
      "Epoch 1/10\n",
      "110288/110288 [==============================] - 29s 265us/step - loss: 2.6160 - acc: 0.5072 - val_loss: nan - val_acc: 0.5779\n",
      "Epoch 2/10\n",
      "110288/110288 [==============================] - 29s 259us/step - loss: 1.5692 - acc: 0.6040 - val_loss: nan - val_acc: 0.6198\n",
      "Epoch 3/10\n",
      "110288/110288 [==============================] - 29s 261us/step - loss: 1.3560 - acc: 0.6297 - val_loss: nan - val_acc: 0.6422\n",
      "Epoch 4/10\n",
      "110288/110288 [==============================] - 28s 256us/step - loss: 1.2426 - acc: 0.6514 - val_loss: nan - val_acc: 0.6570\n",
      "Epoch 5/10\n",
      "110288/110288 [==============================] - 28s 255us/step - loss: 1.1674 - acc: 0.6637 - val_loss: nan - val_acc: 0.6718\n",
      "Epoch 6/10\n",
      "110288/110288 [==============================] - 28s 256us/step - loss: 1.1062 - acc: 0.6762 - val_loss: nan - val_acc: 0.6808\n",
      "Epoch 7/10\n",
      "110288/110288 [==============================] - 28s 256us/step - loss: 1.0586 - acc: 0.6838 - val_loss: nan - val_acc: 0.6868\n",
      "Epoch 8/10\n",
      "110288/110288 [==============================] - 28s 252us/step - loss: 1.0192 - acc: 0.6906 - val_loss: nan - val_acc: 0.6932\n",
      "Epoch 9/10\n",
      "110288/110288 [==============================] - 30s 270us/step - loss: 0.9876 - acc: 0.6968 - val_loss: nan - val_acc: 0.6979\n",
      "Epoch 10/10\n",
      "110288/110288 [==============================] - 29s 266us/step - loss: 0.9619 - acc: 0.7016 - val_loss: nan - val_acc: 0.7037\n",
      "new jersey est parfois calme en mois de il il est en en <PAD> <PAD> <PAD> <PAD> <PAD> <PAD> <PAD> <PAD>\n"
     ]
    }
   ],
   "source": [
    "def bd_model(input_shape, output_sequence_length, english_vocab_size, french_vocab_size):\n",
    "    \"\"\"\n",
    "    Build and train a bidirectional RNN model on x and y\n",
    "    :param input_shape: Tuple of input shape\n",
    "    :param output_sequence_length: Length of output sequence\n",
    "    :param english_vocab_size: Number of unique English words in the dataset\n",
    "    :param french_vocab_size: Number of unique French words in the dataset\n",
    "    :return: Keras model built, but not trained\n",
    "    \"\"\"\n",
    "    # TODO: Implement\n",
    "    inputs = Input(input_shape[1:])\n",
    "    x = Bidirectional(CuDNNGRU(128, return_sequences=True))(inputs)\n",
    "    predictions = TimeDistributed(Dense(french_vocab_size, activation='softmax'))(x)\n",
    "    model = Model(inputs=inputs, outputs=predictions)\n",
    "    model.compile(loss=sparse_categorical_crossentropy,\n",
    "              optimizer=Adam(),\n",
    "              metrics=['accuracy'])\n",
    "    return model\n",
    "tests.test_bd_model(bd_model)\n",
    "\n",
    "\n",
    "# TODO: Train and Print prediction(s)\n",
    "tmp_x = pad(preproc_english_sentences, max_french_sequence_length)\n",
    "tmp_x = tmp_x.reshape((-1, preproc_french_sentences.shape[-2], 1))\n",
    "\n",
    "# Train the neural network\n",
    "bd_rnn_model = bd_model(\n",
    "    tmp_x.shape,\n",
    "    max_french_sequence_length,\n",
    "    english_vocab_size,\n",
    "    french_vocab_size)\n",
    "bd_rnn_model.fit(tmp_x, preproc_french_sentences, batch_size=1024, epochs=10, validation_split=0.2)\n",
    "\n",
    "# Print prediction(s)\n",
    "print(logits_to_text(bd_rnn_model.predict(tmp_x[:1])[0], french_tokenizer))"
   ]
  },
  {
   "cell_type": "markdown",
   "metadata": {},
   "source": [
    "### Model 4: Encoder-Decoder (OPTIONAL)\n",
    "Time to look at encoder-decoder models.  This model is made up of an encoder and decoder. The encoder creates a matrix representation of the sentence.  The decoder takes this matrix as input and predicts the translation as output.\n",
    "\n",
    "Create an encoder-decoder model in the cell below."
   ]
  },
  {
   "cell_type": "code",
   "execution_count": 20,
   "metadata": {
    "ExecuteTime": {
     "end_time": "2018-02-10T11:47:45.965887Z",
     "start_time": "2018-02-10T11:43:05.386895Z"
    }
   },
   "outputs": [
    {
     "name": "stdout",
     "output_type": "stream",
     "text": [
      "Train on 110288 samples, validate on 27573 samples\n",
      "Epoch 1/10\n",
      "110288/110288 [==============================] - 31s 279us/step - loss: 3.0064 - acc: 0.4413 - val_loss: nan - val_acc: 0.4888\n",
      "Epoch 2/10\n",
      "110288/110288 [==============================] - 29s 259us/step - loss: 2.2955 - acc: 0.5008 - val_loss: nan - val_acc: 0.5039\n",
      "Epoch 3/10\n",
      "110288/110288 [==============================] - 27s 249us/step - loss: 2.0736 - acc: 0.5245 - val_loss: nan - val_acc: 0.5473\n",
      "Epoch 4/10\n",
      "110288/110288 [==============================] - 27s 249us/step - loss: 1.8138 - acc: 0.5571 - val_loss: nan - val_acc: 0.5661\n",
      "Epoch 5/10\n",
      "110288/110288 [==============================] - 28s 250us/step - loss: 1.6594 - acc: 0.5727 - val_loss: nan - val_acc: 0.5763\n",
      "Epoch 6/10\n",
      "110288/110288 [==============================] - 27s 248us/step - loss: 1.5738 - acc: 0.5804 - val_loss: nan - val_acc: 0.5856\n",
      "Epoch 7/10\n",
      "110288/110288 [==============================] - 27s 248us/step - loss: 1.5045 - acc: 0.5923 - val_loss: nan - val_acc: 0.6003\n",
      "Epoch 8/10\n",
      "110288/110288 [==============================] - 28s 250us/step - loss: 1.4489 - acc: 0.6025 - val_loss: nan - val_acc: 0.6057\n",
      "Epoch 9/10\n",
      "110288/110288 [==============================] - 27s 246us/step - loss: 1.4051 - acc: 0.6119 - val_loss: nan - val_acc: 0.6167\n",
      "Epoch 10/10\n",
      "110288/110288 [==============================] - 28s 249us/step - loss: 1.3791 - acc: 0.6181 - val_loss: nan - val_acc: 0.6229\n",
      "new jersey est est agr茅able en mois mais il est est en en <PAD> <PAD> <PAD> <PAD> <PAD> <PAD> <PAD> <PAD>\n"
     ]
    }
   ],
   "source": [
    "def encdec_model(input_shape, output_sequence_length, english_vocab_size, french_vocab_size):\n",
    "    \"\"\"\n",
    "    Build and train an encoder-decoder model on x and y\n",
    "    :param input_shape: Tuple of input shape\n",
    "    :param output_sequence_length: Length of output sequence\n",
    "    :param english_vocab_size: Number of unique English words in the dataset\n",
    "    :param french_vocab_size: Number of unique French words in the dataset\n",
    "    :return: Keras model built, but not trained\n",
    "    \"\"\"\n",
    "    # OPTIONAL: Implement\n",
    "    # encoder input model\n",
    "    inputs = Input(input_shape[1:])\n",
    "    x = CuDNNGRU(128)(inputs)\n",
    "    x = RepeatVector(output_sequence_length)(x)\n",
    "    # decoder output model\n",
    "    x = CuDNNGRU(128, return_sequences=True)(x)\n",
    "    predictions = TimeDistributed(Dense(french_vocab_size, activation='softmax'))(x)\n",
    "    model = Model(inputs=inputs, outputs=predictions)\n",
    "    model.compile(loss=sparse_categorical_crossentropy,\n",
    "              optimizer=Adam(),\n",
    "              metrics=['accuracy'])\n",
    "    return model\n",
    "tests.test_encdec_model(encdec_model)\n",
    "\n",
    "\n",
    "# OPTIONAL: Train and Print prediction(s)\n",
    "tmp_x = np.expand_dims(preproc_english_sentences,-1)\n",
    "\n",
    "# Train the neural network\n",
    "encdec_rnn_model = encdec_model(\n",
    "    tmp_x.shape,\n",
    "    max_french_sequence_length,\n",
    "    english_vocab_size,\n",
    "    french_vocab_size)\n",
    "encdec_rnn_model.fit(tmp_x, preproc_french_sentences, batch_size=1024, epochs=10, validation_split=0.2)\n",
    "\n",
    "# Print prediction(s)\n",
    "print(logits_to_text(encdec_rnn_model.predict(tmp_x[:1])[0], french_tokenizer))"
   ]
  },
  {
   "cell_type": "markdown",
   "metadata": {},
   "source": [
    "### Model 5: Custom (IMPLEMENTATION)\n",
    "Use everything you learned from the previous models to create a model that incorporates embedding and a bidirectional rnn into one model."
   ]
  },
  {
   "cell_type": "code",
   "execution_count": 30,
   "metadata": {
    "ExecuteTime": {
     "end_time": "2018-02-10T13:01:08.791242Z",
     "start_time": "2018-02-10T12:56:14.578578Z"
    }
   },
   "outputs": [
    {
     "name": "stdout",
     "output_type": "stream",
     "text": [
      "Final Model Loaded\n",
      "Train on 110288 samples, validate on 27573 samples\n",
      "Epoch 1/10\n",
      "110288/110288 [==============================] - 31s 281us/step - loss: 3.1844 - acc: 0.4256 - val_loss: nan - val_acc: 0.4867\n",
      "Epoch 2/10\n",
      "110288/110288 [==============================] - 29s 264us/step - loss: 2.2352 - acc: 0.4979 - val_loss: nan - val_acc: 0.5103\n",
      "Epoch 3/10\n",
      "110288/110288 [==============================] - 29s 264us/step - loss: 1.9515 - acc: 0.5176 - val_loss: nan - val_acc: 0.5291\n",
      "Epoch 4/10\n",
      "110288/110288 [==============================] - 29s 266us/step - loss: 1.7968 - acc: 0.5460 - val_loss: nan - val_acc: 0.5760\n",
      "Epoch 5/10\n",
      "110288/110288 [==============================] - 29s 265us/step - loss: 1.6316 - acc: 0.5876 - val_loss: nan - val_acc: 0.6026\n",
      "Epoch 6/10\n",
      "110288/110288 [==============================] - 29s 261us/step - loss: 1.5062 - acc: 0.6070 - val_loss: nan - val_acc: 0.6166\n",
      "Epoch 7/10\n",
      "110288/110288 [==============================] - 29s 262us/step - loss: 1.4197 - acc: 0.6221 - val_loss: nan - val_acc: 0.6306\n",
      "Epoch 8/10\n",
      "110288/110288 [==============================] - 29s 261us/step - loss: 1.3446 - acc: 0.6375 - val_loss: nan - val_acc: 0.6487\n",
      "Epoch 9/10\n",
      "110288/110288 [==============================] - 29s 262us/step - loss: 1.2561 - acc: 0.6616 - val_loss: nan - val_acc: 0.6724\n",
      "Epoch 10/10\n",
      "110288/110288 [==============================] - 29s 259us/step - loss: 1.1769 - acc: 0.6807 - val_loss: nan - val_acc: 0.6898\n",
      "new jersey est g茅n茅ralement froid en mois mais il est est en en <PAD> <PAD> <PAD> <PAD> <PAD> <PAD> <PAD> <PAD>\n"
     ]
    }
   ],
   "source": [
    "def model_final(input_shape, output_sequence_length, english_vocab_size, french_vocab_size):\n",
    "    \"\"\"\n",
    "    Build and train a model that incorporates embedding, encoder-decoder, and bidirectional RNN on x and y\n",
    "    :param input_shape: Tuple of input shape\n",
    "    :param output_sequence_length: Length of output sequence\n",
    "    :param english_vocab_size: Number of unique English words in the dataset\n",
    "    :param french_vocab_size: Number of unique French words in the dataset\n",
    "    :return: Keras model built, but not trained\n",
    "    \"\"\"\n",
    "    # TODO: Implement\n",
    "    # encoder input model\n",
    "    inputs = Input(input_shape[1:])\n",
    "    x = Embedding(english_vocab_size, 128, input_length=input_shape[1])(inputs)\n",
    "    x = Bidirectional(CuDNNGRU(128))(x)\n",
    "    x = RepeatVector(output_sequence_length)(x)\n",
    "    # decoder output model\n",
    "    x = CuDNNGRU(128, return_sequences=True)(x)\n",
    "    predictions = TimeDistributed(Dense(french_vocab_size, activation='softmax'))(x)\n",
    "    model = Model(inputs=inputs, outputs=predictions)\n",
    "    model.compile(loss=sparse_categorical_crossentropy,\n",
    "              optimizer=Adam(),\n",
    "              metrics=['accuracy'])\n",
    "    return model\n",
    "tests.test_model_final(model_final)\n",
    "\n",
    "\n",
    "print('Final Model Loaded')\n",
    "# TODO: Train the final model\n",
    "tmp_x = preproc_english_sentences.copy()\n",
    "\n",
    "# Train the neural network\n",
    "model_rnn_final = model_final(\n",
    "    tmp_x.shape,\n",
    "    max_french_sequence_length,\n",
    "    english_vocab_size,\n",
    "    french_vocab_size)\n",
    "model_rnn_final.fit(tmp_x, preproc_french_sentences, batch_size=1024, epochs=10, validation_split=0.2)\n",
    "\n",
    "# Print prediction(s)\n",
    "print(logits_to_text(model_rnn_final.predict(tmp_x[:1])[0], french_tokenizer))"
   ]
  },
  {
   "cell_type": "markdown",
   "metadata": {},
   "source": [
    "## Prediction (IMPLEMENTATION)"
   ]
  },
  {
   "cell_type": "code",
   "execution_count": 13,
   "metadata": {
    "ExecuteTime": {
     "end_time": "2018-02-10T14:02:43.877937Z",
     "start_time": "2018-02-10T13:14:15.352644Z"
    }
   },
   "outputs": [
    {
     "name": "stdout",
     "output_type": "stream",
     "text": [
      "Train on 110288 samples, validate on 27573 samples\n",
      "Epoch 1/100\n",
      " - 31s - loss: 3.1420 - acc: 0.4307 - val_loss: nan - val_acc: 0.4727\n",
      "Epoch 2/100\n",
      " - 30s - loss: 2.1322 - acc: 0.4974 - val_loss: nan - val_acc: 0.5095\n",
      "Epoch 3/100\n",
      " - 30s - loss: 1.9329 - acc: 0.5179 - val_loss: nan - val_acc: 0.5218\n",
      "Epoch 4/100\n",
      " - 29s - loss: 1.7938 - acc: 0.5480 - val_loss: nan - val_acc: 0.5683\n",
      "Epoch 5/100\n",
      " - 30s - loss: 1.6337 - acc: 0.5849 - val_loss: nan - val_acc: 0.6014\n",
      "Epoch 6/100\n",
      " - 29s - loss: 1.5090 - acc: 0.6070 - val_loss: nan - val_acc: 0.6176\n",
      "Epoch 7/100\n",
      " - 29s - loss: 1.4090 - acc: 0.6260 - val_loss: nan - val_acc: 0.6395\n",
      "Epoch 8/100\n",
      " - 29s - loss: 1.3065 - acc: 0.6522 - val_loss: nan - val_acc: 0.6604\n",
      "Epoch 9/100\n",
      " - 29s - loss: 1.2101 - acc: 0.6744 - val_loss: nan - val_acc: 0.6853\n",
      "Epoch 10/100\n",
      " - 29s - loss: 1.1337 - acc: 0.6907 - val_loss: nan - val_acc: 0.6973\n",
      "Epoch 11/100\n",
      " - 29s - loss: 1.0741 - acc: 0.7020 - val_loss: nan - val_acc: 0.7089\n",
      "Epoch 12/100\n",
      " - 29s - loss: 1.0384 - acc: 0.7094 - val_loss: nan - val_acc: 0.7187\n",
      "Epoch 13/100\n",
      " - 29s - loss: 0.9799 - acc: 0.7234 - val_loss: nan - val_acc: 0.7276\n",
      "Epoch 14/100\n",
      " - 29s - loss: 0.9450 - acc: 0.7318 - val_loss: nan - val_acc: 0.7373\n",
      "Epoch 15/100\n",
      " - 29s - loss: 0.9045 - acc: 0.7419 - val_loss: nan - val_acc: 0.7462\n",
      "Epoch 16/100\n",
      " - 29s - loss: 0.8702 - acc: 0.7503 - val_loss: nan - val_acc: 0.7538\n",
      "Epoch 17/100\n",
      " - 29s - loss: 0.8413 - acc: 0.7569 - val_loss: nan - val_acc: 0.7592\n",
      "Epoch 18/100\n",
      " - 29s - loss: 0.8127 - acc: 0.7643 - val_loss: nan - val_acc: 0.7682\n",
      "Epoch 19/100\n",
      " - 29s - loss: 0.7837 - acc: 0.7717 - val_loss: nan - val_acc: 0.7739\n",
      "Epoch 20/100\n",
      " - 29s - loss: 0.7577 - acc: 0.7785 - val_loss: nan - val_acc: 0.7813\n",
      "Epoch 21/100\n",
      " - 29s - loss: 0.7335 - acc: 0.7861 - val_loss: nan - val_acc: 0.7886\n",
      "Epoch 22/100\n",
      " - 29s - loss: 0.7084 - acc: 0.7945 - val_loss: nan - val_acc: 0.7995\n",
      "Epoch 23/100\n",
      " - 29s - loss: 0.6794 - acc: 0.8048 - val_loss: nan - val_acc: 0.8058\n",
      "Epoch 24/100\n",
      " - 30s - loss: 0.6553 - acc: 0.8123 - val_loss: nan - val_acc: 0.8133\n",
      "Epoch 25/100\n",
      " - 29s - loss: 0.6333 - acc: 0.8189 - val_loss: nan - val_acc: 0.8239\n",
      "Epoch 26/100\n",
      " - 29s - loss: 0.6132 - acc: 0.8246 - val_loss: nan - val_acc: 0.8234\n",
      "Epoch 27/100\n",
      " - 29s - loss: 0.5841 - acc: 0.8338 - val_loss: nan - val_acc: 0.8359\n",
      "Epoch 28/100\n",
      " - 29s - loss: 0.5636 - acc: 0.8407 - val_loss: nan - val_acc: 0.8453\n",
      "Epoch 29/100\n",
      " - 29s - loss: 0.5437 - acc: 0.8470 - val_loss: nan - val_acc: 0.8505\n",
      "Epoch 30/100\n",
      " - 29s - loss: 0.5202 - acc: 0.8537 - val_loss: nan - val_acc: 0.8557\n",
      "Epoch 31/100\n",
      " - 29s - loss: 0.5026 - acc: 0.8591 - val_loss: nan - val_acc: 0.8555\n",
      "Epoch 32/100\n",
      " - 29s - loss: 0.4842 - acc: 0.8645 - val_loss: nan - val_acc: 0.8640\n",
      "Epoch 33/100\n",
      " - 29s - loss: 0.4675 - acc: 0.8693 - val_loss: nan - val_acc: 0.8732\n",
      "Epoch 34/100\n",
      " - 29s - loss: 0.4448 - acc: 0.8762 - val_loss: nan - val_acc: 0.8782\n",
      "Epoch 35/100\n",
      " - 30s - loss: 0.4249 - acc: 0.8822 - val_loss: nan - val_acc: 0.8846\n",
      "Epoch 36/100\n",
      " - 28s - loss: 0.4114 - acc: 0.8865 - val_loss: nan - val_acc: 0.8889\n",
      "Epoch 37/100\n",
      " - 29s - loss: 0.3941 - acc: 0.8917 - val_loss: nan - val_acc: 0.8933\n",
      "Epoch 38/100\n",
      " - 29s - loss: 0.3749 - acc: 0.8975 - val_loss: nan - val_acc: 0.8992\n",
      "Epoch 39/100\n",
      " - 28s - loss: 0.3725 - acc: 0.8979 - val_loss: nan - val_acc: 0.8997\n",
      "Epoch 40/100\n",
      " - 28s - loss: 0.3518 - acc: 0.9044 - val_loss: nan - val_acc: 0.9026\n",
      "Epoch 41/100\n",
      " - 28s - loss: 0.3345 - acc: 0.9096 - val_loss: nan - val_acc: 0.9119\n",
      "Epoch 42/100\n",
      " - 28s - loss: 0.3279 - acc: 0.9118 - val_loss: nan - val_acc: 0.9107\n",
      "Epoch 43/100\n",
      " - 28s - loss: 0.3115 - acc: 0.9164 - val_loss: nan - val_acc: 0.9166\n",
      "Epoch 44/100\n",
      " - 28s - loss: 0.2907 - acc: 0.9231 - val_loss: nan - val_acc: 0.9162\n",
      "Epoch 45/100\n",
      " - 28s - loss: 0.2814 - acc: 0.9255 - val_loss: nan - val_acc: 0.9228\n",
      "Epoch 46/100\n",
      " - 28s - loss: 0.2684 - acc: 0.9296 - val_loss: nan - val_acc: 0.9297\n",
      "Epoch 47/100\n",
      " - 30s - loss: 0.2629 - acc: 0.9315 - val_loss: nan - val_acc: 0.9319\n",
      "Epoch 48/100\n",
      " - 29s - loss: 0.2430 - acc: 0.9378 - val_loss: nan - val_acc: 0.9380\n",
      "Epoch 49/100\n",
      " - 30s - loss: 0.2287 - acc: 0.9426 - val_loss: nan - val_acc: 0.9420\n",
      "Epoch 50/100\n",
      " - 30s - loss: 0.2199 - acc: 0.9453 - val_loss: nan - val_acc: 0.9441\n",
      "Epoch 51/100\n",
      " - 29s - loss: 0.2088 - acc: 0.9486 - val_loss: nan - val_acc: 0.9405\n",
      "Epoch 52/100\n",
      " - 29s - loss: 0.1970 - acc: 0.9519 - val_loss: nan - val_acc: 0.9507\n",
      "Epoch 53/100\n",
      " - 29s - loss: 0.1951 - acc: 0.9522 - val_loss: nan - val_acc: 0.9521\n",
      "Epoch 54/100\n",
      " - 29s - loss: 0.1771 - acc: 0.9571 - val_loss: nan - val_acc: 0.9539\n",
      "Epoch 55/100\n",
      " - 28s - loss: 0.1704 - acc: 0.9588 - val_loss: nan - val_acc: 0.9487\n",
      "Epoch 56/100\n",
      " - 30s - loss: 0.1718 - acc: 0.9581 - val_loss: nan - val_acc: 0.9567\n",
      "Epoch 57/100\n",
      " - 30s - loss: 0.1576 - acc: 0.9615 - val_loss: nan - val_acc: 0.9540\n",
      "Epoch 58/100\n",
      " - 31s - loss: 0.1560 - acc: 0.9614 - val_loss: nan - val_acc: 0.9595\n",
      "Epoch 59/100\n",
      " - 31s - loss: 0.1547 - acc: 0.9615 - val_loss: nan - val_acc: 0.9589\n",
      "Epoch 60/100\n",
      " - 30s - loss: 0.1490 - acc: 0.9627 - val_loss: nan - val_acc: 0.9614\n",
      "Epoch 61/100\n",
      " - 29s - loss: 0.1354 - acc: 0.9662 - val_loss: nan - val_acc: 0.9637\n",
      "Epoch 62/100\n",
      " - 29s - loss: 0.1298 - acc: 0.9670 - val_loss: nan - val_acc: 0.9639\n",
      "Epoch 63/100\n",
      " - 30s - loss: 0.1269 - acc: 0.9677 - val_loss: nan - val_acc: 0.9649\n",
      "Epoch 64/100\n",
      " - 29s - loss: 0.1255 - acc: 0.9677 - val_loss: nan - val_acc: 0.9656\n",
      "Epoch 65/100\n",
      " - 29s - loss: 0.1213 - acc: 0.9687 - val_loss: nan - val_acc: 0.9656\n",
      "Epoch 66/100\n",
      " - 29s - loss: 0.1157 - acc: 0.9700 - val_loss: nan - val_acc: 0.9676\n",
      "Epoch 67/100\n",
      " - 29s - loss: 0.1079 - acc: 0.9721 - val_loss: nan - val_acc: 0.9680\n",
      "Epoch 68/100\n",
      " - 30s - loss: 0.1095 - acc: 0.9716 - val_loss: nan - val_acc: 0.9660\n",
      "Epoch 69/100\n",
      " - 29s - loss: 0.1068 - acc: 0.9719 - val_loss: nan - val_acc: 0.9650\n",
      "Epoch 70/100\n",
      " - 29s - loss: 0.1037 - acc: 0.9727 - val_loss: nan - val_acc: 0.9691\n",
      "Epoch 71/100\n",
      " - 29s - loss: 0.1118 - acc: 0.9712 - val_loss: nan - val_acc: 0.9662\n",
      "Epoch 72/100\n",
      " - 29s - loss: 0.0998 - acc: 0.9737 - val_loss: nan - val_acc: 0.9711\n",
      "Epoch 73/100\n",
      " - 28s - loss: 0.0908 - acc: 0.9760 - val_loss: nan - val_acc: 0.9708\n",
      "Epoch 74/100\n",
      " - 29s - loss: 0.0864 - acc: 0.9770 - val_loss: nan - val_acc: 0.9736\n",
      "Epoch 75/100\n",
      " - 29s - loss: 0.0871 - acc: 0.9768 - val_loss: nan - val_acc: 0.9718\n",
      "Epoch 76/100\n",
      " - 29s - loss: 0.0949 - acc: 0.9747 - val_loss: nan - val_acc: 0.9706\n",
      "Epoch 77/100\n",
      " - 29s - loss: 0.0975 - acc: 0.9746 - val_loss: nan - val_acc: 0.9712\n",
      "Epoch 78/100\n",
      " - 29s - loss: 0.0838 - acc: 0.9777 - val_loss: nan - val_acc: 0.9742\n",
      "Epoch 79/100\n",
      " - 29s - loss: 0.0955 - acc: 0.9749 - val_loss: nan - val_acc: 0.9723\n",
      "Epoch 80/100\n",
      " - 29s - loss: 0.0781 - acc: 0.9791 - val_loss: nan - val_acc: 0.9727\n",
      "Epoch 81/100\n",
      " - 29s - loss: 0.0794 - acc: 0.9787 - val_loss: nan - val_acc: 0.9747\n",
      "Epoch 82/100\n",
      " - 29s - loss: 0.0712 - acc: 0.9808 - val_loss: nan - val_acc: 0.9767\n",
      "Epoch 83/100\n",
      " - 29s - loss: 0.0696 - acc: 0.9812 - val_loss: nan - val_acc: 0.9768\n",
      "Epoch 84/100\n",
      " - 29s - loss: 0.0697 - acc: 0.9812 - val_loss: nan - val_acc: 0.9739\n",
      "Epoch 85/100\n",
      " - 29s - loss: 0.0670 - acc: 0.9818 - val_loss: nan - val_acc: 0.9767\n",
      "Epoch 86/100\n",
      " - 29s - loss: 0.0894 - acc: 0.9765 - val_loss: nan - val_acc: 0.9647\n",
      "Epoch 87/100\n",
      " - 29s - loss: 0.0854 - acc: 0.9772 - val_loss: nan - val_acc: 0.9743\n",
      "Epoch 88/100\n",
      " - 29s - loss: 0.0668 - acc: 0.9820 - val_loss: nan - val_acc: 0.9766\n",
      "Epoch 89/100\n",
      " - 29s - loss: 0.0638 - acc: 0.9827 - val_loss: nan - val_acc: 0.9769\n",
      "Epoch 90/100\n",
      " - 29s - loss: 0.0682 - acc: 0.9816 - val_loss: nan - val_acc: 0.9707\n",
      "Epoch 91/100\n",
      " - 29s - loss: 0.0614 - acc: 0.9833 - val_loss: nan - val_acc: 0.9779\n",
      "Epoch 92/100\n",
      " - 29s - loss: 0.0572 - acc: 0.9845 - val_loss: nan - val_acc: 0.9781\n",
      "Epoch 93/100\n",
      " - 29s - loss: 0.0579 - acc: 0.9843 - val_loss: nan - val_acc: 0.9775\n",
      "Epoch 94/100\n",
      " - 30s - loss: 0.0702 - acc: 0.9811 - val_loss: nan - val_acc: 0.9774\n",
      "Epoch 95/100\n",
      " - 29s - loss: 0.0535 - acc: 0.9855 - val_loss: nan - val_acc: 0.9792\n",
      "Epoch 96/100\n",
      " - 29s - loss: 0.0503 - acc: 0.9864 - val_loss: nan - val_acc: 0.9798\n",
      "Epoch 97/100\n",
      " - 29s - loss: 0.0495 - acc: 0.9866 - val_loss: nan - val_acc: 0.9804\n",
      "Epoch 98/100\n",
      " - 29s - loss: 0.0493 - acc: 0.9864 - val_loss: nan - val_acc: 0.9801\n",
      "Epoch 99/100\n",
      " - 29s - loss: 0.0499 - acc: 0.9864 - val_loss: nan - val_acc: 0.9807\n"
     ]
    },
    {
     "name": "stdout",
     "output_type": "stream",
     "text": [
      "Epoch 100/100\n",
      " - 29s - loss: 0.0498 - acc: 0.9864 - val_loss: nan - val_acc: 0.9810\n",
      "Sample 1:\n",
      "il a vu un vieux camion jaune <PAD> <PAD> <PAD> <PAD> <PAD> <PAD> <PAD> <PAD> <PAD> <PAD> <PAD> <PAD> <PAD> <PAD>\n",
      "Il a vu un vieux camion jaune\n",
      "Sample 2:\n",
      "new jersey est parfois calme pendant l' automne et il est neigeux en avril <PAD> <PAD> <PAD> <PAD> <PAD> <PAD> <PAD>\n",
      "new jersey est parfois calme pendant l' automne et il est neigeux en avril <PAD> <PAD> <PAD> <PAD> <PAD> <PAD> <PAD>\n"
     ]
    }
   ],
   "source": [
    "def final_predictions(x, y, x_tk, y_tk):\n",
    "    \"\"\"\n",
    "    Gets predictions using the final model\n",
    "    :param x: Preprocessed English data\n",
    "    :param y: Preprocessed French data\n",
    "    :param x_tk: English tokenizer\n",
    "    :param y_tk: French tokenizer\n",
    "    \"\"\"\n",
    "    # TODO: Train neural network using model_final\n",
    "    model = model_final(\n",
    "        x.shape,\n",
    "        y.shape[1],\n",
    "        len(x_tk.word_index),\n",
    "        len(y_tk.word_index))\n",
    "    model.fit(x, y, batch_size=1024, epochs=100, validation_split=0.2, verbose=2)\n",
    "    \n",
    "    ## DON'T EDIT ANYTHING BELOW THIS LINE\n",
    "    y_id_to_word = {value: key for key, value in y_tk.word_index.items()}\n",
    "    y_id_to_word[0] = '<PAD>'\n",
    "\n",
    "    sentence = 'he saw a old yellow truck'\n",
    "    sentence = [x_tk.word_index[word] for word in sentence.split()]\n",
    "    sentence = pad_sequences([sentence], maxlen=x.shape[-1], padding='post')\n",
    "    sentences = np.array([sentence[0], x[0]])\n",
    "    predictions = model.predict(sentences, len(sentences))\n",
    "\n",
    "    print('Sample 1:')\n",
    "    print(' '.join([y_id_to_word[np.argmax(x)] for x in predictions[0]]))\n",
    "    print('Il a vu un vieux camion jaune')\n",
    "    print('Sample 2:')\n",
    "    print(' '.join([y_id_to_word[np.argmax(x)] for x in predictions[1]]))\n",
    "    print(' '.join([y_id_to_word[np.max(x)] for x in y[0]]))\n",
    "\n",
    "\n",
    "final_predictions(preproc_english_sentences, preproc_french_sentences, english_tokenizer, french_tokenizer)"
   ]
  },
  {
   "cell_type": "markdown",
   "metadata": {},
   "source": [
    "## Submission\n",
    "When you're ready to submit, complete the following steps:\n",
    "1. Review the [rubric](https://review.udacity.com/#!/rubrics/1004/view) to ensure your submission meets all requirements to pass\n",
    "2. Generate an HTML version of this notebook\n",
    "\n",
    "  - Run the next cell to attempt automatic generation (this is the recommended method in Workspaces)\n",
    "  - Navigate to **FILE -> Download as -> HTML (.html)**\n",
    "  - Manually generate a copy using `nbconvert` from your shell terminal\n",
    "```\n",
    "$ pip install nbconvert\n",
    "$ python -m nbconvert machine_translation.ipynb\n",
    "```\n",
    "  \n",
    "3. Submit the project\n",
    "\n",
    "  - If you are in a Workspace, simply click the \"Submit Project\" button (bottom towards the right)\n",
    "  \n",
    "  - Otherwise, add the following files into a zip archive and submit them \n",
    "  - `helper.py`\n",
    "  - `machine_translation.ipynb`\n",
    "  - `machine_translation.html`\n",
    "    - You can export the notebook by navigating to **File -> Download as -> HTML (.html)**."
   ]
  },
  {
   "cell_type": "code",
   "execution_count": 14,
   "metadata": {
    "ExecuteTime": {
     "end_time": "2018-02-10T14:07:31.709237Z",
     "start_time": "2018-02-10T14:07:28.488242Z"
    }
   },
   "outputs": [
    {
     "data": {
      "text/plain": [
       "['[NbConvertApp] Converting notebook machine_translation.ipynb to html',\n",
       " '[NbConvertApp] Writing 349015 bytes to machine_translation.html']"
      ]
     },
     "execution_count": 14,
     "metadata": {},
     "output_type": "execute_result"
    }
   ],
   "source": [
    "!!python -m nbconvert *.ipynb"
   ]
  },
  {
   "cell_type": "markdown",
   "metadata": {},
   "source": [
    "## Optional Enhancements\n",
    "\n",
    "This project focuses on learning various network architectures for machine translation, but we don't evaluate the models according to best practices by splitting the data into separate test & training sets -- so the model accuracy is overstated. Use the [`sklearn.model_selection.train_test_split()`](http://scikit-learn.org/stable/modules/generated/sklearn.model_selection.train_test_split.html) function to create separate training & test datasets, then retrain each of the models using only the training set and evaluate the prediction accuracy using the hold out test set. Does the \"best\" model change?"
   ]
  }
 ],
 "metadata": {
  "hide_input": false,
  "kernelspec": {
   "display_name": "Python 3",
   "language": "python",
   "name": "python3"
  },
  "language_info": {
   "codemirror_mode": {
    "name": "ipython",
    "version": 3
   },
   "file_extension": ".py",
   "mimetype": "text/x-python",
   "name": "python",
   "nbconvert_exporter": "python",
   "pygments_lexer": "ipython3",
   "version": "3.6.4"
  },
  "toc": {
   "nav_menu": {},
   "number_sections": true,
   "sideBar": true,
   "skip_h1_title": false,
   "title_cell": "Table of Contents",
   "title_sidebar": "Contents",
   "toc_cell": false,
   "toc_position": {},
   "toc_section_display": true,
   "toc_window_display": false
  },
  "varInspector": {
   "cols": {
    "lenName": 16,
    "lenType": 16,
    "lenVar": 40
   },
   "kernels_config": {
    "python": {
     "delete_cmd_postfix": "",
     "delete_cmd_prefix": "del ",
     "library": "var_list.py",
     "varRefreshCmd": "print(var_dic_list())"
    },
    "r": {
     "delete_cmd_postfix": ") ",
     "delete_cmd_prefix": "rm(",
     "library": "var_list.r",
     "varRefreshCmd": "cat(var_dic_list()) "
    }
   },
   "types_to_exclude": [
    "module",
    "function",
    "builtin_function_or_method",
    "instance",
    "_Feature"
   ],
   "window_display": false
  }
 },
 "nbformat": 4,
 "nbformat_minor": 1
}
